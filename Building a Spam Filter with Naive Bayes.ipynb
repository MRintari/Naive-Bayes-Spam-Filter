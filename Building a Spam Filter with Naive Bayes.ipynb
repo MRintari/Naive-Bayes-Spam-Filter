{
 "cells": [
  {
   "cell_type": "markdown",
   "id": "d05f9aa2",
   "metadata": {},
   "source": [
    "# SMS Spam Filter with Naive Bayes\n",
    "In this project, I will be building a spam filter for SMS messages. I will use the multinomial Naive Bayes algorithm along with a dataset of 5,572 SMS messages that have already been classified. The data set can be downloaded from [The UCI Machine Learning Repository](https://archive.ics.uci.edu/ml/datasets/sms+spam+collection). \n",
    "\n",
    "## Explore Data"
   ]
  },
  {
   "cell_type": "code",
   "execution_count": 1,
   "id": "910af0e2",
   "metadata": {},
   "outputs": [
    {
     "data": {
      "text/plain": [
       "(5572, 2)"
      ]
     },
     "execution_count": 1,
     "metadata": {},
     "output_type": "execute_result"
    }
   ],
   "source": [
    "# Import necessary modules\n",
    "import pandas as pd\n",
    "\n",
    "# Read dataset\n",
    "sms = pd.read_csv('Datasets/SMSSpamCollection', sep='\\t', header=None, names=['Label', 'SMS'])\n",
    "sms.shape"
   ]
  },
  {
   "cell_type": "code",
   "execution_count": 2,
   "id": "0041a37a",
   "metadata": {},
   "outputs": [
    {
     "data": {
      "text/html": [
       "<div>\n",
       "<style scoped>\n",
       "    .dataframe tbody tr th:only-of-type {\n",
       "        vertical-align: middle;\n",
       "    }\n",
       "\n",
       "    .dataframe tbody tr th {\n",
       "        vertical-align: top;\n",
       "    }\n",
       "\n",
       "    .dataframe thead th {\n",
       "        text-align: right;\n",
       "    }\n",
       "</style>\n",
       "<table border=\"1\" class=\"dataframe\">\n",
       "  <thead>\n",
       "    <tr style=\"text-align: right;\">\n",
       "      <th></th>\n",
       "      <th>Label</th>\n",
       "      <th>SMS</th>\n",
       "    </tr>\n",
       "  </thead>\n",
       "  <tbody>\n",
       "    <tr>\n",
       "      <th>0</th>\n",
       "      <td>ham</td>\n",
       "      <td>Go until jurong point, crazy.. Available only ...</td>\n",
       "    </tr>\n",
       "    <tr>\n",
       "      <th>1</th>\n",
       "      <td>ham</td>\n",
       "      <td>Ok lar... Joking wif u oni...</td>\n",
       "    </tr>\n",
       "    <tr>\n",
       "      <th>2</th>\n",
       "      <td>spam</td>\n",
       "      <td>Free entry in 2 a wkly comp to win FA Cup fina...</td>\n",
       "    </tr>\n",
       "    <tr>\n",
       "      <th>3</th>\n",
       "      <td>ham</td>\n",
       "      <td>U dun say so early hor... U c already then say...</td>\n",
       "    </tr>\n",
       "    <tr>\n",
       "      <th>4</th>\n",
       "      <td>ham</td>\n",
       "      <td>Nah I don't think he goes to usf, he lives aro...</td>\n",
       "    </tr>\n",
       "  </tbody>\n",
       "</table>\n",
       "</div>"
      ],
      "text/plain": [
       "  Label                                                SMS\n",
       "0   ham  Go until jurong point, crazy.. Available only ...\n",
       "1   ham                      Ok lar... Joking wif u oni...\n",
       "2  spam  Free entry in 2 a wkly comp to win FA Cup fina...\n",
       "3   ham  U dun say so early hor... U c already then say...\n",
       "4   ham  Nah I don't think he goes to usf, he lives aro..."
      ]
     },
     "execution_count": 2,
     "metadata": {},
     "output_type": "execute_result"
    }
   ],
   "source": [
    "sms.head()"
   ]
  },
  {
   "cell_type": "code",
   "execution_count": 3,
   "id": "aefad273",
   "metadata": {},
   "outputs": [
    {
     "data": {
      "text/plain": [
       "ham     86.593683\n",
       "spam    13.406317\n",
       "Name: Label, dtype: float64"
      ]
     },
     "execution_count": 3,
     "metadata": {},
     "output_type": "execute_result"
    }
   ],
   "source": [
    "# Find percentage of spam and ham msgs\n",
    "sms['Label'].value_counts(normalize=True)*100"
   ]
  },
  {
   "cell_type": "markdown",
   "id": "0c178a11",
   "metadata": {},
   "source": [
    "86.6% of SMS messages are ham (non-spam) and the remaining 13.4% of SMS messages are spam."
   ]
  },
  {
   "cell_type": "markdown",
   "id": "aa9896e9",
   "metadata": {},
   "source": [
    "## Training & Test Set\n",
    "To build the spam filter, I'll need to split the dataset into a training and test set to determine how good the model is at classifying *new* messages as either spam or ham. I will complete the split using an 80:20 split percentage, with 80% of the dataset being used for training, and 20% being usede for testing. This equates to:\n",
    "* 4,458 messages for the training set\n",
    "* 1,114 mesages for the test set\n",
    "\n",
    "For this project, the goal is to create a spam filter that classifies new messages with an accuracy greater than 80%. "
   ]
  },
  {
   "cell_type": "code",
   "execution_count": 4,
   "id": "68f702ce",
   "metadata": {},
   "outputs": [
    {
     "name": "stdout",
     "output_type": "stream",
     "text": [
      "ham     86.54105\n",
      "spam    13.45895\n",
      "Name: Label, dtype: float64\n",
      "ham     86.804309\n",
      "spam    13.195691\n",
      "Name: Label, dtype: float64\n"
     ]
    }
   ],
   "source": [
    "# Randomise dataset\n",
    "sms = sms.sample(frac=1, random_state=1)\n",
    "# Split dataset\n",
    "train = sms.copy().iloc[:4458]\n",
    "test = sms.copy().iloc[4458:]\n",
    "train.reset_index(drop = True, inplace = True)\n",
    "test.reset_index(drop = True, inplace = True)\n",
    "\n",
    "# Percentage of spam and ham in both datasets\n",
    "print(train['Label'].value_counts(normalize=True)*100)\n",
    "print(test['Label'].value_counts(normalize=True)*100)"
   ]
  },
  {
   "cell_type": "markdown",
   "id": "9e94952a",
   "metadata": {},
   "source": [
    "It can be seen that both the training and test data sets have similar spam percentages to the original full dataset."
   ]
  },
  {
   "cell_type": "markdown",
   "id": "3c0eb9df",
   "metadata": {},
   "source": [
    "## Letter Case & Punctuation\n",
    "In order to use the Naive Bayes algorithm, the dataset needs to be cleaned and reformatted that will allow for easier extraction of the necessary information. To begin, I will remove the punctuation and make all words lower case."
   ]
  },
  {
   "cell_type": "code",
   "execution_count": 5,
   "id": "4560b6b8",
   "metadata": {},
   "outputs": [],
   "source": [
    "# Make SMS msgs lowercase & remover punct.\n",
    "train['SMS'] = train['SMS'].str.replace('\\W', ' ', regex = True).str.lower()"
   ]
  },
  {
   "cell_type": "markdown",
   "id": "282e5ba7",
   "metadata": {},
   "source": [
    "## Creating the Vocabulary\n",
    "The Naive Bayes algorithm will require a vocabulary count, which represents the number of unique words in the dataset. This will be created in the next cell."
   ]
  },
  {
   "cell_type": "code",
   "execution_count": 6,
   "id": "2604b71c",
   "metadata": {},
   "outputs": [],
   "source": [
    "# Transform msgs into lists\n",
    "train['SMS'] = train['SMS'].str.split()\n",
    "\n",
    "# Create vocabulary list\n",
    "vocabulary = []\n",
    "for msg in train['SMS']:\n",
    "    for word in msg:\n",
    "        vocabulary.append(word)\n",
    "vocabulary = set(vocabulary) # Remove duplicates\n",
    "vocabulary = list(vocabulary) # Transform back to list"
   ]
  },
  {
   "cell_type": "markdown",
   "id": "3ba4bd8f",
   "metadata": {},
   "source": [
    "## Final Training Set"
   ]
  },
  {
   "cell_type": "markdown",
   "id": "aba29476",
   "metadata": {},
   "source": [
    "To reformat the data into one that is easier to extract information from, I will use a dictionary that stores the number of times each word appears in the SMS message. The label column will remain intact, however the following columns would instead represent each unique word, with the values representing the number of times each message contained each unique word."
   ]
  },
  {
   "cell_type": "code",
   "execution_count": 7,
   "id": "3e43be7e",
   "metadata": {},
   "outputs": [
    {
     "data": {
      "text/html": [
       "<div>\n",
       "<style scoped>\n",
       "    .dataframe tbody tr th:only-of-type {\n",
       "        vertical-align: middle;\n",
       "    }\n",
       "\n",
       "    .dataframe tbody tr th {\n",
       "        vertical-align: top;\n",
       "    }\n",
       "\n",
       "    .dataframe thead th {\n",
       "        text-align: right;\n",
       "    }\n",
       "</style>\n",
       "<table border=\"1\" class=\"dataframe\">\n",
       "  <thead>\n",
       "    <tr style=\"text-align: right;\">\n",
       "      <th></th>\n",
       "      <th>Label</th>\n",
       "      <th>SMS</th>\n",
       "      <th>youwanna</th>\n",
       "      <th>raed</th>\n",
       "      <th>sitter</th>\n",
       "      <th>ogunrinde</th>\n",
       "      <th>noline</th>\n",
       "      <th>hip</th>\n",
       "      <th>ard</th>\n",
       "      <th>eve</th>\n",
       "      <th>...</th>\n",
       "      <th>call</th>\n",
       "      <th>paru</th>\n",
       "      <th>23f</th>\n",
       "      <th>bloke</th>\n",
       "      <th>08719180219</th>\n",
       "      <th>tosend</th>\n",
       "      <th>swiss</th>\n",
       "      <th>itz</th>\n",
       "      <th>promotion</th>\n",
       "      <th>nobody</th>\n",
       "    </tr>\n",
       "  </thead>\n",
       "  <tbody>\n",
       "    <tr>\n",
       "      <th>0</th>\n",
       "      <td>ham</td>\n",
       "      <td>[yep, by, the, pretty, sculpture]</td>\n",
       "      <td>0</td>\n",
       "      <td>0</td>\n",
       "      <td>0</td>\n",
       "      <td>0</td>\n",
       "      <td>0</td>\n",
       "      <td>0</td>\n",
       "      <td>0</td>\n",
       "      <td>0</td>\n",
       "      <td>...</td>\n",
       "      <td>0</td>\n",
       "      <td>0</td>\n",
       "      <td>0</td>\n",
       "      <td>0</td>\n",
       "      <td>0</td>\n",
       "      <td>0</td>\n",
       "      <td>0</td>\n",
       "      <td>0</td>\n",
       "      <td>0</td>\n",
       "      <td>0</td>\n",
       "    </tr>\n",
       "    <tr>\n",
       "      <th>1</th>\n",
       "      <td>ham</td>\n",
       "      <td>[yes, princess, are, you, going, to, make, me,...</td>\n",
       "      <td>0</td>\n",
       "      <td>0</td>\n",
       "      <td>0</td>\n",
       "      <td>0</td>\n",
       "      <td>0</td>\n",
       "      <td>0</td>\n",
       "      <td>0</td>\n",
       "      <td>0</td>\n",
       "      <td>...</td>\n",
       "      <td>0</td>\n",
       "      <td>0</td>\n",
       "      <td>0</td>\n",
       "      <td>0</td>\n",
       "      <td>0</td>\n",
       "      <td>0</td>\n",
       "      <td>0</td>\n",
       "      <td>0</td>\n",
       "      <td>0</td>\n",
       "      <td>0</td>\n",
       "    </tr>\n",
       "    <tr>\n",
       "      <th>2</th>\n",
       "      <td>ham</td>\n",
       "      <td>[welp, apparently, he, retired]</td>\n",
       "      <td>0</td>\n",
       "      <td>0</td>\n",
       "      <td>0</td>\n",
       "      <td>0</td>\n",
       "      <td>0</td>\n",
       "      <td>0</td>\n",
       "      <td>0</td>\n",
       "      <td>0</td>\n",
       "      <td>...</td>\n",
       "      <td>0</td>\n",
       "      <td>0</td>\n",
       "      <td>0</td>\n",
       "      <td>0</td>\n",
       "      <td>0</td>\n",
       "      <td>0</td>\n",
       "      <td>0</td>\n",
       "      <td>0</td>\n",
       "      <td>0</td>\n",
       "      <td>0</td>\n",
       "    </tr>\n",
       "    <tr>\n",
       "      <th>3</th>\n",
       "      <td>ham</td>\n",
       "      <td>[havent]</td>\n",
       "      <td>0</td>\n",
       "      <td>0</td>\n",
       "      <td>0</td>\n",
       "      <td>0</td>\n",
       "      <td>0</td>\n",
       "      <td>0</td>\n",
       "      <td>0</td>\n",
       "      <td>0</td>\n",
       "      <td>...</td>\n",
       "      <td>0</td>\n",
       "      <td>0</td>\n",
       "      <td>0</td>\n",
       "      <td>0</td>\n",
       "      <td>0</td>\n",
       "      <td>0</td>\n",
       "      <td>0</td>\n",
       "      <td>0</td>\n",
       "      <td>0</td>\n",
       "      <td>0</td>\n",
       "    </tr>\n",
       "    <tr>\n",
       "      <th>4</th>\n",
       "      <td>ham</td>\n",
       "      <td>[i, forgot, 2, ask, ü, all, smth, there, s, a,...</td>\n",
       "      <td>0</td>\n",
       "      <td>0</td>\n",
       "      <td>0</td>\n",
       "      <td>0</td>\n",
       "      <td>0</td>\n",
       "      <td>0</td>\n",
       "      <td>0</td>\n",
       "      <td>0</td>\n",
       "      <td>...</td>\n",
       "      <td>0</td>\n",
       "      <td>0</td>\n",
       "      <td>0</td>\n",
       "      <td>0</td>\n",
       "      <td>0</td>\n",
       "      <td>0</td>\n",
       "      <td>0</td>\n",
       "      <td>0</td>\n",
       "      <td>0</td>\n",
       "      <td>0</td>\n",
       "    </tr>\n",
       "  </tbody>\n",
       "</table>\n",
       "<p>5 rows × 7785 columns</p>\n",
       "</div>"
      ],
      "text/plain": [
       "  Label                                                SMS  youwanna  raed  \\\n",
       "0   ham                  [yep, by, the, pretty, sculpture]         0     0   \n",
       "1   ham  [yes, princess, are, you, going, to, make, me,...         0     0   \n",
       "2   ham                    [welp, apparently, he, retired]         0     0   \n",
       "3   ham                                           [havent]         0     0   \n",
       "4   ham  [i, forgot, 2, ask, ü, all, smth, there, s, a,...         0     0   \n",
       "\n",
       "   sitter  ogunrinde  noline  hip  ard  eve  ...  call  paru  23f  bloke  \\\n",
       "0       0          0       0    0    0    0  ...     0     0    0      0   \n",
       "1       0          0       0    0    0    0  ...     0     0    0      0   \n",
       "2       0          0       0    0    0    0  ...     0     0    0      0   \n",
       "3       0          0       0    0    0    0  ...     0     0    0      0   \n",
       "4       0          0       0    0    0    0  ...     0     0    0      0   \n",
       "\n",
       "   08719180219  tosend  swiss  itz  promotion  nobody  \n",
       "0            0       0      0    0          0       0  \n",
       "1            0       0      0    0          0       0  \n",
       "2            0       0      0    0          0       0  \n",
       "3            0       0      0    0          0       0  \n",
       "4            0       0      0    0          0       0  \n",
       "\n",
       "[5 rows x 7785 columns]"
      ]
     },
     "execution_count": 7,
     "metadata": {},
     "output_type": "execute_result"
    }
   ],
   "source": [
    "word_counts_per_sms = {unique_word: [0] * len(train['SMS']) for unique_word in vocabulary} # Instantiate count dictionary\n",
    "\n",
    "# Populate dictionary with count values\n",
    "for index, sms in enumerate(train['SMS']):\n",
    "    for word in sms:\n",
    "        word_counts_per_sms[word][index] += 1\n",
    "        \n",
    "word_counts_per_sms = pd.DataFrame(word_counts_per_sms)\n",
    "train = pd.concat([train,word_counts_per_sms], axis = 1)\n",
    "train.head()"
   ]
  },
  {
   "cell_type": "markdown",
   "id": "9103170c",
   "metadata": {},
   "source": [
    "## Calculating Constants\n",
    "The Naive Bayes algorithm will need to know the probability values of the two equations below to be able to classify new messages:\n",
    "\n",
    "$$P(\\text{Spam} | w_1, w_2, \\ldots, w_n) \\propto P(\\text{Spam}) \\cdot \\prod_{i=1}^{n} P(w_i | \\text{Spam})$$\n",
    "$$P(\\text{Ham} | w_1, w_2, \\ldots, w_n) \\propto P(\\text{Ham}) \\cdot \\prod_{i=1}^{n} P(w_i | \\text{Ham})$$\n",
    "\n",
    "Also, to calculate $P(w_i|Spam)$ and $P(w_i|Ham)$ inside the formulas above, I'll need to use the following equations:\n",
    "\n",
    "$$P(w_i|\\text{Spam}) = \\frac{N_{w_i}|\\text{Spam} + \\alpha}{N_\\text{Spam} + \\alpha \\cdot N_\\text{Vocabulary}}$$\n",
    "\n",
    "$$P(w_i|\\text{Ham}) = \\frac{N_{w_i}|\\text{Ham} + \\alpha}{N_\\text{Ham} + \\alpha \\cdot N_\\text{Vocabulary}}$$\n",
    "\n",
    "Some of the terms in the four equations above will have the same value for every new message. Therefore, I can start by calculating:\n",
    "* $P(Spam)$ and $P(Ham)$\n",
    "* $N_\\text{Spam}$, $N_\\text{Ham}$, $N_\\text{Vocabulary}$\n",
    "\n",
    "When performing additive smoothing, I wil use Laplace smoothing and set $\\alpha = 1$."
   ]
  },
  {
   "cell_type": "code",
   "execution_count": 27,
   "id": "795d5e14",
   "metadata": {},
   "outputs": [],
   "source": [
    "# Find P(Spam) & P(Ham)\n",
    "p_spam = train['Label'].value_counts(normalize = True)['spam']\n",
    "p_ham = train['Label'].value_counts(normalize = True)['ham']\n",
    "\n",
    "# Find N spam, ham and vocab\n",
    "spam = train[train['Label'] == 'spam']\n",
    "n_spam = spam.iloc[:, 2:].sum().sum()\n",
    "\n",
    "ham = train[train['Label'] == 'ham']\n",
    "n_ham = ham.iloc[:, 2:].sum().sum()\n",
    "\n",
    "# Find n vocab\n",
    "n_vocabulary = len(vocabulary)\n",
    "\n",
    "# Initiate alpha\n",
    "alpha = 1"
   ]
  },
  {
   "cell_type": "markdown",
   "id": "80713f0e",
   "metadata": {},
   "source": [
    "## Calculating Parameters\n",
    "Since each word will have a different probability, I will have to calculate the probability of $P(w_i)|\\text{Spam})$ and $P(w_i)|\\text{Ham})$ for every word. Fortunately, as the data is all from the training set, the probabilities for each individual word is constant for every new message. By calculating each individual word's probability now, this will make the Naive Bayes algorithm much faster. When a new message comes in, most of the needed computations will have already been completed, enabling the algorithm to almost instantly classify the new message. If calculations are not performed beforehand, then the all calculations would have to be repeatedly performed for every new message, which is redundant due to it being an inefficient use of computer resources.\n",
    "\n",
    "I will begin by creating the function for calculating each word's probability in spam or ham."
   ]
  },
  {
   "cell_type": "code",
   "execution_count": 31,
   "id": "618acd02",
   "metadata": {},
   "outputs": [],
   "source": [
    "# Calculate word probability of spam or ham\n",
    "def w_probs(word, is_spam):\n",
    "    if is_spam:\n",
    "        w_count = spam[word].sum()\n",
    "        probability = (w_count + alpha) / (n_spam + (alpha * n_vocabulary))\n",
    "        return probability\n",
    "    else:\n",
    "        w_count = ham[word].sum()\n",
    "        probability = (w_count + alpha) / (n_ham + (alpha * n_vocabulary))\n",
    "        return probability"
   ]
  },
  {
   "cell_type": "markdown",
   "id": "377a08b3",
   "metadata": {},
   "source": [
    "I will now find the probability values for each word being spam and ham."
   ]
  },
  {
   "cell_type": "code",
   "execution_count": 32,
   "id": "3ea1464d",
   "metadata": {},
   "outputs": [],
   "source": [
    "spam_dict = {}\n",
    "ham_dict = {}\n",
    "for w in vocabulary:\n",
    "    spam_dict[w] = w_probs(w,True)\n",
    "    ham_dict[w] = w_probs(w,False)"
   ]
  },
  {
   "cell_type": "markdown",
   "id": "81422a41",
   "metadata": {},
   "source": [
    "## Classifying A New Message\n",
    "I can now use the constants and parameters calculated to create the spam filter."
   ]
  },
  {
   "cell_type": "code",
   "execution_count": 42,
   "id": "635d3d37",
   "metadata": {},
   "outputs": [],
   "source": [
    "# Naive Bayes spam filter function\n",
    "import re\n",
    "def spam_filter(message):\n",
    "    # Format message appropriately\n",
    "    message = re.sub('\\W', ' ', message)\n",
    "    message = message.lower()\n",
    "    message = message.split()\n",
    "    \n",
    "    # Calculate probabilities\n",
    "    spam_probs = 1\n",
    "    ham_probs = 1\n",
    "    for w in message:\n",
    "        if w in vocabulary:\n",
    "            spam_probs *= spam_dict[w]\n",
    "            ham_probs *= ham_dict[w]\n",
    "    \n",
    "    spam_probs *= p_spam\n",
    "    ham_probs *= p_ham\n",
    "    # Output filter classification\n",
    "    outcome = 'spam' if spam_probs > ham_probs else ('needs human classification' if spam_probs == ham_probs else 'ham')\n",
    "    return outcome"
   ]
  },
  {
   "cell_type": "markdown",
   "id": "e67bf0ac",
   "metadata": {},
   "source": [
    "Now, I will test the function with a spam and ham message."
   ]
  },
  {
   "cell_type": "code",
   "execution_count": 43,
   "id": "912d32df",
   "metadata": {},
   "outputs": [
    {
     "data": {
      "text/plain": [
       "'spam'"
      ]
     },
     "execution_count": 43,
     "metadata": {},
     "output_type": "execute_result"
    }
   ],
   "source": [
    "spam_filter('WINNER!! This is the secret code to unlock the money: C3421.')"
   ]
  },
  {
   "cell_type": "code",
   "execution_count": 44,
   "id": "dbb81f42",
   "metadata": {},
   "outputs": [
    {
     "data": {
      "text/plain": [
       "'ham'"
      ]
     },
     "execution_count": 44,
     "metadata": {},
     "output_type": "execute_result"
    }
   ],
   "source": [
    "spam_filter('\"Sounds good, Tom, then see u there\"')"
   ]
  },
  {
   "cell_type": "markdown",
   "id": "0940c567",
   "metadata": {},
   "source": [
    "The function appears to be functioning as expected.\n",
    "\n",
    "## Measuring the Spam Filter's Accuracy\n",
    "I will now determine how well the spam filter does on the test set of 1,114 messages."
   ]
  },
  {
   "cell_type": "code",
   "execution_count": 45,
   "id": "87265da2",
   "metadata": {},
   "outputs": [
    {
     "data": {
      "text/html": [
       "<div>\n",
       "<style scoped>\n",
       "    .dataframe tbody tr th:only-of-type {\n",
       "        vertical-align: middle;\n",
       "    }\n",
       "\n",
       "    .dataframe tbody tr th {\n",
       "        vertical-align: top;\n",
       "    }\n",
       "\n",
       "    .dataframe thead th {\n",
       "        text-align: right;\n",
       "    }\n",
       "</style>\n",
       "<table border=\"1\" class=\"dataframe\">\n",
       "  <thead>\n",
       "    <tr style=\"text-align: right;\">\n",
       "      <th></th>\n",
       "      <th>Label</th>\n",
       "      <th>SMS</th>\n",
       "      <th>predicted</th>\n",
       "    </tr>\n",
       "  </thead>\n",
       "  <tbody>\n",
       "    <tr>\n",
       "      <th>0</th>\n",
       "      <td>ham</td>\n",
       "      <td>Later i guess. I needa do mcat study too.</td>\n",
       "      <td>ham</td>\n",
       "    </tr>\n",
       "    <tr>\n",
       "      <th>1</th>\n",
       "      <td>ham</td>\n",
       "      <td>But i haf enuff space got like 4 mb...</td>\n",
       "      <td>ham</td>\n",
       "    </tr>\n",
       "    <tr>\n",
       "      <th>2</th>\n",
       "      <td>spam</td>\n",
       "      <td>Had your mobile 10 mths? Update to latest Oran...</td>\n",
       "      <td>spam</td>\n",
       "    </tr>\n",
       "    <tr>\n",
       "      <th>3</th>\n",
       "      <td>ham</td>\n",
       "      <td>All sounds good. Fingers . Makes it difficult ...</td>\n",
       "      <td>ham</td>\n",
       "    </tr>\n",
       "    <tr>\n",
       "      <th>4</th>\n",
       "      <td>ham</td>\n",
       "      <td>All done, all handed in. Don't know if mega sh...</td>\n",
       "      <td>ham</td>\n",
       "    </tr>\n",
       "  </tbody>\n",
       "</table>\n",
       "</div>"
      ],
      "text/plain": [
       "  Label                                                SMS predicted\n",
       "0   ham          Later i guess. I needa do mcat study too.       ham\n",
       "1   ham             But i haf enuff space got like 4 mb...       ham\n",
       "2  spam  Had your mobile 10 mths? Update to latest Oran...      spam\n",
       "3   ham  All sounds good. Fingers . Makes it difficult ...       ham\n",
       "4   ham  All done, all handed in. Don't know if mega sh...       ham"
      ]
     },
     "execution_count": 45,
     "metadata": {},
     "output_type": "execute_result"
    }
   ],
   "source": [
    "test['predicted'] = test['SMS'].apply(spam_filter)\n",
    "test.head()"
   ]
  },
  {
   "cell_type": "markdown",
   "id": "9fe30637",
   "metadata": {},
   "source": [
    "Now I can compare the predicted values with the actual values to measure how good the spam filter is with classifying new messages. To make the measurement, I'll use **accuracy** as a metric:\n",
    "$$\\text{Accuracy}=\\frac{\\text{number of correectly classified messages}}{\\text{total number of classified messages}}$$"
   ]
  },
  {
   "cell_type": "code",
   "execution_count": 50,
   "id": "0d036161",
   "metadata": {},
   "outputs": [
    {
     "data": {
      "text/plain": [
       "0.9874326750448833"
      ]
     },
     "execution_count": 50,
     "metadata": {},
     "output_type": "execute_result"
    }
   ],
   "source": [
    "# Calculate accuracy metric\n",
    "correct = 0\n",
    "total = len(test)\n",
    "for index, row in test.iterrows():\n",
    "    if row['predicted'] == row['Label']:\n",
    "        correct += 1\n",
    "accuracy = correct/total\n",
    "accuracy"
   ]
  },
  {
   "cell_type": "markdown",
   "id": "bbc85f1c",
   "metadata": {},
   "source": [
    "This spam filter has an accuracy of 98.74%, which is an excellent result considering the inital aim was accuracy greater than 80%. Further completion of this project would involve identifying the incorrectly predicted messages and assessing why the were incorrectly labeled and how this filter could be improved. Incorrectly labeled messages can be viewed below."
   ]
  },
  {
   "cell_type": "code",
   "execution_count": 51,
   "id": "cbf96784",
   "metadata": {},
   "outputs": [
    {
     "data": {
      "text/html": [
       "<div>\n",
       "<style scoped>\n",
       "    .dataframe tbody tr th:only-of-type {\n",
       "        vertical-align: middle;\n",
       "    }\n",
       "\n",
       "    .dataframe tbody tr th {\n",
       "        vertical-align: top;\n",
       "    }\n",
       "\n",
       "    .dataframe thead th {\n",
       "        text-align: right;\n",
       "    }\n",
       "</style>\n",
       "<table border=\"1\" class=\"dataframe\">\n",
       "  <thead>\n",
       "    <tr style=\"text-align: right;\">\n",
       "      <th></th>\n",
       "      <th>Label</th>\n",
       "      <th>SMS</th>\n",
       "      <th>predicted</th>\n",
       "    </tr>\n",
       "  </thead>\n",
       "  <tbody>\n",
       "    <tr>\n",
       "      <th>114</th>\n",
       "      <td>spam</td>\n",
       "      <td>Not heard from U4 a while. Call me now am here...</td>\n",
       "      <td>ham</td>\n",
       "    </tr>\n",
       "    <tr>\n",
       "      <th>135</th>\n",
       "      <td>spam</td>\n",
       "      <td>More people are dogging in your area now. Call...</td>\n",
       "      <td>ham</td>\n",
       "    </tr>\n",
       "    <tr>\n",
       "      <th>152</th>\n",
       "      <td>ham</td>\n",
       "      <td>Unlimited texts. Limited minutes.</td>\n",
       "      <td>spam</td>\n",
       "    </tr>\n",
       "    <tr>\n",
       "      <th>159</th>\n",
       "      <td>ham</td>\n",
       "      <td>26th OF JULY</td>\n",
       "      <td>spam</td>\n",
       "    </tr>\n",
       "    <tr>\n",
       "      <th>284</th>\n",
       "      <td>ham</td>\n",
       "      <td>Nokia phone is lovly..</td>\n",
       "      <td>spam</td>\n",
       "    </tr>\n",
       "    <tr>\n",
       "      <th>293</th>\n",
       "      <td>ham</td>\n",
       "      <td>A Boy loved a gal. He propsd bt she didnt mind...</td>\n",
       "      <td>needs human classification</td>\n",
       "    </tr>\n",
       "    <tr>\n",
       "      <th>302</th>\n",
       "      <td>ham</td>\n",
       "      <td>No calls..messages..missed calls</td>\n",
       "      <td>spam</td>\n",
       "    </tr>\n",
       "    <tr>\n",
       "      <th>319</th>\n",
       "      <td>ham</td>\n",
       "      <td>We have sent JD for Customer Service cum Accou...</td>\n",
       "      <td>spam</td>\n",
       "    </tr>\n",
       "    <tr>\n",
       "      <th>504</th>\n",
       "      <td>spam</td>\n",
       "      <td>Oh my god! I've found your number again! I'm s...</td>\n",
       "      <td>ham</td>\n",
       "    </tr>\n",
       "    <tr>\n",
       "      <th>546</th>\n",
       "      <td>spam</td>\n",
       "      <td>Hi babe its Chloe, how r u? I was smashed on s...</td>\n",
       "      <td>ham</td>\n",
       "    </tr>\n",
       "    <tr>\n",
       "      <th>741</th>\n",
       "      <td>spam</td>\n",
       "      <td>0A$NETWORKS allow companies to bill for SMS, s...</td>\n",
       "      <td>ham</td>\n",
       "    </tr>\n",
       "    <tr>\n",
       "      <th>876</th>\n",
       "      <td>spam</td>\n",
       "      <td>RCT' THNQ Adrian for U text. Rgds Vatian</td>\n",
       "      <td>ham</td>\n",
       "    </tr>\n",
       "    <tr>\n",
       "      <th>885</th>\n",
       "      <td>spam</td>\n",
       "      <td>2/2 146tf150p</td>\n",
       "      <td>ham</td>\n",
       "    </tr>\n",
       "    <tr>\n",
       "      <th>953</th>\n",
       "      <td>spam</td>\n",
       "      <td>Hello. We need some posh birds and chaps to us...</td>\n",
       "      <td>ham</td>\n",
       "    </tr>\n",
       "  </tbody>\n",
       "</table>\n",
       "</div>"
      ],
      "text/plain": [
       "    Label                                                SMS  \\\n",
       "114  spam  Not heard from U4 a while. Call me now am here...   \n",
       "135  spam  More people are dogging in your area now. Call...   \n",
       "152   ham                  Unlimited texts. Limited minutes.   \n",
       "159   ham                                       26th OF JULY   \n",
       "284   ham                             Nokia phone is lovly..   \n",
       "293   ham  A Boy loved a gal. He propsd bt she didnt mind...   \n",
       "302   ham                   No calls..messages..missed calls   \n",
       "319   ham  We have sent JD for Customer Service cum Accou...   \n",
       "504  spam  Oh my god! I've found your number again! I'm s...   \n",
       "546  spam  Hi babe its Chloe, how r u? I was smashed on s...   \n",
       "741  spam  0A$NETWORKS allow companies to bill for SMS, s...   \n",
       "876  spam           RCT' THNQ Adrian for U text. Rgds Vatian   \n",
       "885  spam                                      2/2 146tf150p   \n",
       "953  spam  Hello. We need some posh birds and chaps to us...   \n",
       "\n",
       "                      predicted  \n",
       "114                         ham  \n",
       "135                         ham  \n",
       "152                        spam  \n",
       "159                        spam  \n",
       "284                        spam  \n",
       "293  needs human classification  \n",
       "302                        spam  \n",
       "319                        spam  \n",
       "504                         ham  \n",
       "546                         ham  \n",
       "741                         ham  \n",
       "876                         ham  \n",
       "885                         ham  \n",
       "953                         ham  "
      ]
     },
     "execution_count": 51,
     "metadata": {},
     "output_type": "execute_result"
    }
   ],
   "source": [
    "test[test['Label'] != test['predicted']]"
   ]
  }
 ],
 "metadata": {
  "kernelspec": {
   "display_name": "Python 3 (ipykernel)",
   "language": "python",
   "name": "python3"
  },
  "language_info": {
   "codemirror_mode": {
    "name": "ipython",
    "version": 3
   },
   "file_extension": ".py",
   "mimetype": "text/x-python",
   "name": "python",
   "nbconvert_exporter": "python",
   "pygments_lexer": "ipython3",
   "version": "3.11.3"
  }
 },
 "nbformat": 4,
 "nbformat_minor": 5
}
